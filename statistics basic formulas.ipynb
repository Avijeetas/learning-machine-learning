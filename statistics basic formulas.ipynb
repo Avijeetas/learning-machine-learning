{
 "cells": [
  {
   "cell_type": "markdown",
   "metadata": {},
   "source": [
    "[Reference Notebook Mathjax Formulas](http://jupyter-notebook.readthedocs.io/en/latest/examples/Notebook/Typesetting%20Equations.html)\n",
    "\n",
    "[Mathjax Examples](http://csrgxtu.github.io/2015/03/20/Writing-Mathematic-Fomulars-in-Markdown/)"
   ]
  },
  {
   "cell_type": "markdown",
   "metadata": {},
   "source": [
    "\n",
    "**Mean:** \\begin{align}\\bar{x} &= \\frac{\\sum_{i=1}^n x_i}{n}\\end{align}\n",
    "\n",
    "**Median even:** \\begin{align}\\frac{x_{\\frac{n}{2}} + x_{\\frac{n}{2}+1}}{2}\\end{align}\n",
    "\n",
    "**Median odd:** \\begin{align}x_{\\frac{n+1}{2}}\\end{align}\n",
    "\n",
    "\n",
    "\n",
    "\n",
    "\n"
   ]
  },
  {
   "cell_type": "markdown",
   "metadata": {
    "collapsed": true
   },
   "source": [
    "**[Populations, Samples, Parameters, and Statistics](https://www.cliffsnotes.com/study-guides/statistics/sampling/populations-samples-parameters-and-statistics)**:\n",
    "population : parameter = sample : statistic\n",
    "\n",
    "A **[variable](http://www.abs.gov.au/websitedbs/a3121120.nsf/home/statistical+language+-+what+are+variables)** is any characteristics, number, or quantity that can be measured or counted. A variable may also be called a data item. Age, sex, business income and expenses, country of birth, capital expenditure, class grades, eye colour and vehicle type are examples of variables.\n",
    "\n",
    "**[Dependent and Independent Variables](https://statistics.laerd.com/statistical-guides/types-of-variable.php)**. An independent variable, sometimes called an experimental or predictor variable, is a variable that is being manipulated in an experiment in order to observe the effect on a dependent variable, sometimes called an outcome variable.\n",
    "\n",
    "**[Extraneous/Lurking Variables](http://web.mst.edu/~psyworld/extraneous.htm)** are undesirable variables that influence the relationship between the variables that an experimenter is examining.\n",
    "\n",
    "udacity take away: in an experiment, the researcher manipulates the independent variable, measures changes in the dependent variable, and seeks to control lurking variables\n",
    "\n",
    "When you're talking about a **[construct](http://www.statisticshowto.com/construct-validity/)** in relation to testing and construct validity, it has nothing to do with the way a test is designed or constructed. A construct is something that happens in the brain, like a skill, level of emotion, ability or proficiency. For example, proficiency in any language is a construct.\n",
    "\n",
    "An **[operational definition](https://en.wikipedia.org/wiki/Operational_definition)** is the application of operationalization used in defining the terms of a process (or set of validation tests) needed to determine the nature of an item or phenomenon (e.g. a variable, term, or object) and its properties such as duration, quantity, extension in space, chemical composition, etc.\n",
    "e.g. by adding measurable units: amount of water drinking a day -> liters of water drinking a day\n",
    "\n",
    "#### [Distribution point of interest]( https://en.wikipedia.org/wiki/Mode_%28statistics%29 ):\n",
    "\n",
    "| Type | Description | Example | Result |\n",
    "| :--: | :---------: | :-----: | :----: |\n",
    "| Arithmetic mean | Sum of values of a data set divided by number of values: \\begin{align}{\\bar  {x}}={\\frac  {1}{n}}\\sum _{{i=1}}^{n}x_{i}\\end{align} | (1+2+2+3+4+7+9) / 7 | 4 |\n",
    "| Median | Middle value separating the greater and lesser halves of a data set | 1, 2, 2, 3, 4, 7, 9 | 3 |\n",
    "| Mode | Most frequent value in a data set | 1, 2, 2, 3, 4, 7, 9 | 2 |\n",
    "\n",
    "#### Distribution type:\n",
    "- Uniform Distribution: does not have a Mode\n",
    "- Bimodal Distribution: two different Modes\n",
    "- Multimodal Distribution: more than one Mode\n",
    "- Evenly Normal Distribution: Mean, Mode and Median are in the center\n",
    "\n",
    "#### [Quartiles](https://en.wikipedia.org/wiki/Quartile):\n",
    "\n",
    "| Symbol        | Names | Definition |\n",
    "| :------------ |:-----:| :---------:|\n",
    "| Q<sub>1</sub> | first quartile<br>lower quartile<br>25th percentile | splits off the lowest 25% of data from the highest 75% |\n",
    "| Q<sub>2</sub> (=Median) | second quartile<br>median<br>50th percentile |   cuts data set in half |\n",
    "| Q<sub>3</sub> | third quartile<br>upper quartile<br>75th percentile | splits off the highest 25% of data from the lowest 75% |\n",
    "| [IQR](https://en.wikipedia.org/wiki/Interquartile_range) | Interquartile Range | Q<sub>3</sub> - Q<sub>1</sub> |\n",
    "| Lower Outlier | Lower Boundary for Outliers | Q<sub>1</sub> - 1.5 * IQR |\n",
    "| Upper Outlier | Upper Boundary for Outliers | Q<sub>3</sub> + 1.5 * IQR |\n",
    "\n",
    "#### Average Absolute Deviation:\n",
    "![Average Deviation](http://www.animatedsoftware.com/pics/stats/sg_average_deviation.png)\n",
    "\n",
    "#### Average Square Deviation / Variance:\n",
    "\\begin{align}{\\frac {\\sum _{{i=1}}^{n}({x_{i}}-{\\bar  {x}})^{2}}{n}}\\end{align}\n",
    "\n",
    "#### [(Population) Standard Deviation](http://www.mathsisfun.com/data/standard-deviation-formulas.html):\n",
    "\n",
    "\\begin{align}\\sigma = \\sqrt{{\\frac {\\sum _{{i=1}}^{n}({x_{i}}-{\\bar  {x}})^{2}}{n}}}\\end{align}\n",
    "\n",
    "#### [Bessel's correction / (Sample) Standard Deviation](https://en.wikipedia.org/wiki/Bessel%27s_correction):\n",
    "\n",
    "\\begin{align}\\sigma = \\sqrt{{\\frac {\\sum _{{i=1}}^{n}({x_{i}}-{\\bar  {x}})^{2}}{n-1}}}\\end{align}\n",
    "\n",
    "\n",
    "#### [Normal Distribution](https://en.wikipedia.org/wiki/Normal_distribution):\n",
    "\n",
    "![normal distribution and standard deviation](https://upload.wikimedia.org/wikipedia/commons/a/a9/Empirical_Rule.PNG)\n",
    "\n",
    "#### [Standard Deviation](https://en.wikipedia.org/wiki/Standard_deviation)\n",
    "![Standard Deviation](https://upload.wikimedia.org/wikipedia/commons/8/8c/Standard_deviation_diagram.svg)\n",
    "\n",
    "#### [Probability Density Function (PDF)](http://work.thaslwanter.at/Stats/html/statsDistributions.html#probability-density-function-pdf)**: ![PDF](http://work.thaslwanter.at/Stats/html/_images/PDF.png)\n",
    "\n",
    "#### Z-Table:\n",
    "![ztable](https://s3.amazonaws.com/udacity-hosted-downloads/ZTable.jpg)"
   ]
  },
  {
   "cell_type": "code",
   "execution_count": 4,
   "metadata": {
    "collapsed": false
   },
   "outputs": [],
   "source": [
    "# from IPython.display import Image\n",
    "# from IPython.core.display import HTML \n",
    "# Image(url= \"http://www.animatedsoftware.com/pics/stats/sg_average_deviation.png\")"
   ]
  },
  {
   "cell_type": "markdown",
   "metadata": {
    "collapsed": true
   },
   "source": []
  },
  {
   "cell_type": "code",
   "execution_count": null,
   "metadata": {
    "collapsed": true
   },
   "outputs": [],
   "source": []
  }
 ],
 "metadata": {
  "anaconda-cloud": {},
  "kernelspec": {
   "display_name": "Python [default]",
   "language": "python",
   "name": "python2"
  },
  "language_info": {
   "codemirror_mode": {
    "name": "ipython",
    "version": 2
   },
   "file_extension": ".py",
   "mimetype": "text/x-python",
   "name": "python",
   "nbconvert_exporter": "python",
   "pygments_lexer": "ipython2",
   "version": "2.7.12"
  }
 },
 "nbformat": 4,
 "nbformat_minor": 0
}
