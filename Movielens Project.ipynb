{
 "cells": [
  {
   "cell_type": "markdown",
   "metadata": {},
   "source": [
    "# [Movielens Project](http://www.gregreda.com/2013/10/26/using-pandas-on-the-movielens-dataset/)"
   ]
  },
  {
   "cell_type": "code",
   "execution_count": 16,
   "metadata": {
    "collapsed": true
   },
   "outputs": [],
   "source": [
    "import pandas as pd\n",
    "import numpy as np"
   ]
  },
  {
   "cell_type": "code",
   "execution_count": 20,
   "metadata": {
    "collapsed": false
   },
   "outputs": [],
   "source": [
    "# pass in column names for each CSV\n",
    "r_cols = ['userId', 'movieId', 'rating', 'timestamp']\n",
    "ratings = pd.read_csv('ml-latest-small/ratings.csv', sep=',', encoding='utf-8')\n",
    "\n",
    "# the movies file contains columns indicating the movie's genres\n",
    "# let's only load the first five columns of the file with usecols\n",
    "m_cols = ['movieId', 'title', 'genres']\n",
    "movies = pd.read_csv('ml-latest-small/movies.csv', sep=',', encoding='utf-8')\n",
    "\n",
    "# create one merged DataFrame\n",
    "movie_ratings = pd.merge(movies, ratings)"
   ]
  },
  {
   "cell_type": "code",
   "execution_count": 21,
   "metadata": {
    "collapsed": false
   },
   "outputs": [
    {
     "data": {
      "text/html": [
       "<div>\n",
       "<table border=\"1\" class=\"dataframe\">\n",
       "  <thead>\n",
       "    <tr style=\"text-align: right;\">\n",
       "      <th></th>\n",
       "      <th>movieId</th>\n",
       "      <th>title</th>\n",
       "      <th>genres</th>\n",
       "      <th>userId</th>\n",
       "      <th>rating</th>\n",
       "      <th>timestamp</th>\n",
       "    </tr>\n",
       "  </thead>\n",
       "  <tbody>\n",
       "    <tr>\n",
       "      <th>0</th>\n",
       "      <td>1</td>\n",
       "      <td>Toy Story (1995)</td>\n",
       "      <td>Adventure|Animation|Children|Comedy|Fantasy</td>\n",
       "      <td>7</td>\n",
       "      <td>3.0</td>\n",
       "      <td>851866703</td>\n",
       "    </tr>\n",
       "    <tr>\n",
       "      <th>1</th>\n",
       "      <td>1</td>\n",
       "      <td>Toy Story (1995)</td>\n",
       "      <td>Adventure|Animation|Children|Comedy|Fantasy</td>\n",
       "      <td>9</td>\n",
       "      <td>4.0</td>\n",
       "      <td>938629179</td>\n",
       "    </tr>\n",
       "    <tr>\n",
       "      <th>2</th>\n",
       "      <td>1</td>\n",
       "      <td>Toy Story (1995)</td>\n",
       "      <td>Adventure|Animation|Children|Comedy|Fantasy</td>\n",
       "      <td>13</td>\n",
       "      <td>5.0</td>\n",
       "      <td>1331380058</td>\n",
       "    </tr>\n",
       "    <tr>\n",
       "      <th>3</th>\n",
       "      <td>1</td>\n",
       "      <td>Toy Story (1995)</td>\n",
       "      <td>Adventure|Animation|Children|Comedy|Fantasy</td>\n",
       "      <td>15</td>\n",
       "      <td>2.0</td>\n",
       "      <td>997938310</td>\n",
       "    </tr>\n",
       "    <tr>\n",
       "      <th>4</th>\n",
       "      <td>1</td>\n",
       "      <td>Toy Story (1995)</td>\n",
       "      <td>Adventure|Animation|Children|Comedy|Fantasy</td>\n",
       "      <td>19</td>\n",
       "      <td>3.0</td>\n",
       "      <td>855190091</td>\n",
       "    </tr>\n",
       "  </tbody>\n",
       "</table>\n",
       "</div>"
      ],
      "text/plain": [
       "   movieId             title                                       genres  \\\n",
       "0        1  Toy Story (1995)  Adventure|Animation|Children|Comedy|Fantasy   \n",
       "1        1  Toy Story (1995)  Adventure|Animation|Children|Comedy|Fantasy   \n",
       "2        1  Toy Story (1995)  Adventure|Animation|Children|Comedy|Fantasy   \n",
       "3        1  Toy Story (1995)  Adventure|Animation|Children|Comedy|Fantasy   \n",
       "4        1  Toy Story (1995)  Adventure|Animation|Children|Comedy|Fantasy   \n",
       "\n",
       "   userId  rating   timestamp  \n",
       "0       7     3.0   851866703  \n",
       "1       9     4.0   938629179  \n",
       "2      13     5.0  1331380058  \n",
       "3      15     2.0   997938310  \n",
       "4      19     3.0   855190091  "
      ]
     },
     "execution_count": 21,
     "metadata": {},
     "output_type": "execute_result"
    }
   ],
   "source": [
    "movie_ratings.head()"
   ]
  },
  {
   "cell_type": "code",
   "execution_count": 22,
   "metadata": {
    "collapsed": true
   },
   "outputs": [],
   "source": [
    "most_rated = movie_ratings.groupby('title').size().sort_values(ascending=False)[:25]"
   ]
  },
  {
   "cell_type": "code",
   "execution_count": 23,
   "metadata": {
    "collapsed": false
   },
   "outputs": [
    {
     "data": {
      "text/plain": [
       "title\n",
       "Forrest Gump (1994)                                                               341\n",
       "Pulp Fiction (1994)                                                               324\n",
       "Shawshank Redemption, The (1994)                                                  311\n",
       "Silence of the Lambs, The (1991)                                                  304\n",
       "Star Wars: Episode IV - A New Hope (1977)                                         291\n",
       "Jurassic Park (1993)                                                              274\n",
       "Matrix, The (1999)                                                                259\n",
       "Toy Story (1995)                                                                  247\n",
       "Schindler's List (1993)                                                           244\n",
       "Terminator 2: Judgment Day (1991)                                                 237\n",
       "Star Wars: Episode V - The Empire Strikes Back (1980)                             234\n",
       "Braveheart (1995)                                                                 228\n",
       "Back to the Future (1985)                                                         226\n",
       "Fargo (1996)                                                                      224\n",
       "Raiders of the Lost Ark (Indiana Jones and the Raiders of the Lost Ark) (1981)    220\n",
       "American Beauty (1999)                                                            220\n",
       "Independence Day (a.k.a. ID4) (1996)                                              218\n",
       "Star Wars: Episode VI - Return of the Jedi (1983)                                 217\n",
       "Aladdin (1992)                                                                    215\n",
       "Fugitive, The (1993)                                                              213\n",
       "Dances with Wolves (1990)                                                         202\n",
       "Fight Club (1999)                                                                 202\n",
       "Seven (a.k.a. Se7en) (1995)                                                       201\n",
       "Usual Suspects, The (1995)                                                        201\n",
       "Apollo 13 (1995)                                                                  200\n",
       "dtype: int64"
      ]
     },
     "execution_count": 23,
     "metadata": {},
     "output_type": "execute_result"
    }
   ],
   "source": [
    "most_rated"
   ]
  },
  {
   "cell_type": "code",
   "execution_count": 24,
   "metadata": {
    "collapsed": false
   },
   "outputs": [
    {
     "data": {
      "text/plain": [
       "Forrest Gump (1994)                                                               341\n",
       "Pulp Fiction (1994)                                                               324\n",
       "Shawshank Redemption, The (1994)                                                  311\n",
       "Silence of the Lambs, The (1991)                                                  304\n",
       "Star Wars: Episode IV - A New Hope (1977)                                         291\n",
       "Jurassic Park (1993)                                                              274\n",
       "Matrix, The (1999)                                                                259\n",
       "Toy Story (1995)                                                                  247\n",
       "Schindler's List (1993)                                                           244\n",
       "Terminator 2: Judgment Day (1991)                                                 237\n",
       "Star Wars: Episode V - The Empire Strikes Back (1980)                             234\n",
       "Braveheart (1995)                                                                 228\n",
       "Back to the Future (1985)                                                         226\n",
       "Fargo (1996)                                                                      224\n",
       "Raiders of the Lost Ark (Indiana Jones and the Raiders of the Lost Ark) (1981)    220\n",
       "American Beauty (1999)                                                            220\n",
       "Independence Day (a.k.a. ID4) (1996)                                              218\n",
       "Star Wars: Episode VI - Return of the Jedi (1983)                                 217\n",
       "Aladdin (1992)                                                                    215\n",
       "Fugitive, The (1993)                                                              213\n",
       "Fight Club (1999)                                                                 202\n",
       "Dances with Wolves (1990)                                                         202\n",
       "Seven (a.k.a. Se7en) (1995)                                                       201\n",
       "Usual Suspects, The (1995)                                                        201\n",
       "Lord of the Rings: The Fellowship of the Ring, The (2001)                         200\n",
       "Name: title, dtype: int64"
      ]
     },
     "execution_count": 24,
     "metadata": {},
     "output_type": "execute_result"
    }
   ],
   "source": [
    "movie_ratings.title.value_counts()[:25]"
   ]
  },
  {
   "cell_type": "code",
   "execution_count": 25,
   "metadata": {
    "collapsed": false
   },
   "outputs": [
    {
     "data": {
      "text/html": [
       "<div>\n",
       "<table border=\"1\" class=\"dataframe\">\n",
       "  <thead>\n",
       "    <tr>\n",
       "      <th></th>\n",
       "      <th colspan=\"2\" halign=\"left\">rating</th>\n",
       "    </tr>\n",
       "    <tr>\n",
       "      <th></th>\n",
       "      <th>size</th>\n",
       "      <th>mean</th>\n",
       "    </tr>\n",
       "    <tr>\n",
       "      <th>title</th>\n",
       "      <th></th>\n",
       "      <th></th>\n",
       "    </tr>\n",
       "  </thead>\n",
       "  <tbody>\n",
       "    <tr>\n",
       "      <th>\"Great Performances\" Cats (1998)</th>\n",
       "      <td>2.0</td>\n",
       "      <td>1.750000</td>\n",
       "    </tr>\n",
       "    <tr>\n",
       "      <th>$9.99 (2008)</th>\n",
       "      <td>3.0</td>\n",
       "      <td>3.833333</td>\n",
       "    </tr>\n",
       "    <tr>\n",
       "      <th>'Hellboy': The Seeds of Creation (2004)</th>\n",
       "      <td>1.0</td>\n",
       "      <td>2.000000</td>\n",
       "    </tr>\n",
       "    <tr>\n",
       "      <th>'Neath the Arizona Skies (1934)</th>\n",
       "      <td>1.0</td>\n",
       "      <td>0.500000</td>\n",
       "    </tr>\n",
       "    <tr>\n",
       "      <th>'Round Midnight (1986)</th>\n",
       "      <td>2.0</td>\n",
       "      <td>2.250000</td>\n",
       "    </tr>\n",
       "  </tbody>\n",
       "</table>\n",
       "</div>"
      ],
      "text/plain": [
       "                                        rating          \n",
       "                                          size      mean\n",
       "title                                                   \n",
       "\"Great Performances\" Cats (1998)           2.0  1.750000\n",
       "$9.99 (2008)                               3.0  3.833333\n",
       "'Hellboy': The Seeds of Creation (2004)    1.0  2.000000\n",
       "'Neath the Arizona Skies (1934)            1.0  0.500000\n",
       "'Round Midnight (1986)                     2.0  2.250000"
      ]
     },
     "execution_count": 25,
     "metadata": {},
     "output_type": "execute_result"
    }
   ],
   "source": [
    "movie_stats = movie_ratings.groupby('title').agg({'rating': [np.size, np.mean]})\n",
    "movie_stats.head()"
   ]
  },
  {
   "cell_type": "code",
   "execution_count": 26,
   "metadata": {
    "collapsed": false
   },
   "outputs": [
    {
     "data": {
      "text/html": [
       "<div>\n",
       "<table border=\"1\" class=\"dataframe\">\n",
       "  <thead>\n",
       "    <tr>\n",
       "      <th></th>\n",
       "      <th colspan=\"2\" halign=\"left\">rating</th>\n",
       "    </tr>\n",
       "    <tr>\n",
       "      <th></th>\n",
       "      <th>size</th>\n",
       "      <th>mean</th>\n",
       "    </tr>\n",
       "    <tr>\n",
       "      <th>title</th>\n",
       "      <th></th>\n",
       "      <th></th>\n",
       "    </tr>\n",
       "  </thead>\n",
       "  <tbody>\n",
       "    <tr>\n",
       "      <th>Ivan Vasilievich: Back to the Future (Ivan Vasilievich menyaet professiyu) (1973)</th>\n",
       "      <td>1.0</td>\n",
       "      <td>5.0</td>\n",
       "    </tr>\n",
       "    <tr>\n",
       "      <th>Alien Escape (1995)</th>\n",
       "      <td>1.0</td>\n",
       "      <td>5.0</td>\n",
       "    </tr>\n",
       "    <tr>\n",
       "      <th>Boiling Point (1993)</th>\n",
       "      <td>1.0</td>\n",
       "      <td>5.0</td>\n",
       "    </tr>\n",
       "    <tr>\n",
       "      <th>Bone Tomahawk (2015)</th>\n",
       "      <td>1.0</td>\n",
       "      <td>5.0</td>\n",
       "    </tr>\n",
       "    <tr>\n",
       "      <th>Borgman (2013)</th>\n",
       "      <td>1.0</td>\n",
       "      <td>5.0</td>\n",
       "    </tr>\n",
       "  </tbody>\n",
       "</table>\n",
       "</div>"
      ],
      "text/plain": [
       "                                                   rating     \n",
       "                                                     size mean\n",
       "title                                                         \n",
       "Ivan Vasilievich: Back to the Future (Ivan Vasi...    1.0  5.0\n",
       "Alien Escape (1995)                                   1.0  5.0\n",
       "Boiling Point (1993)                                  1.0  5.0\n",
       "Bone Tomahawk (2015)                                  1.0  5.0\n",
       "Borgman (2013)                                        1.0  5.0"
      ]
     },
     "execution_count": 26,
     "metadata": {},
     "output_type": "execute_result"
    }
   ],
   "source": [
    "movie_stats.sort_values([('rating', 'mean')], ascending=False).head()"
   ]
  },
  {
   "cell_type": "code",
   "execution_count": 33,
   "metadata": {
    "collapsed": false
   },
   "outputs": [
    {
     "data": {
      "text/html": [
       "<div>\n",
       "<table border=\"1\" class=\"dataframe\">\n",
       "  <thead>\n",
       "    <tr>\n",
       "      <th></th>\n",
       "      <th colspan=\"2\" halign=\"left\">rating</th>\n",
       "    </tr>\n",
       "    <tr>\n",
       "      <th></th>\n",
       "      <th>size</th>\n",
       "      <th>mean</th>\n",
       "    </tr>\n",
       "    <tr>\n",
       "      <th>title</th>\n",
       "      <th></th>\n",
       "      <th></th>\n",
       "    </tr>\n",
       "  </thead>\n",
       "  <tbody>\n",
       "    <tr>\n",
       "      <th>Godfather, The (1972)</th>\n",
       "      <td>200.0</td>\n",
       "      <td>4.487500</td>\n",
       "    </tr>\n",
       "    <tr>\n",
       "      <th>Shawshank Redemption, The (1994)</th>\n",
       "      <td>311.0</td>\n",
       "      <td>4.487138</td>\n",
       "    </tr>\n",
       "    <tr>\n",
       "      <th>Godfather: Part II, The (1974)</th>\n",
       "      <td>135.0</td>\n",
       "      <td>4.385185</td>\n",
       "    </tr>\n",
       "    <tr>\n",
       "      <th>Usual Suspects, The (1995)</th>\n",
       "      <td>201.0</td>\n",
       "      <td>4.370647</td>\n",
       "    </tr>\n",
       "    <tr>\n",
       "      <th>Schindler's List (1993)</th>\n",
       "      <td>244.0</td>\n",
       "      <td>4.303279</td>\n",
       "    </tr>\n",
       "    <tr>\n",
       "      <th>One Flew Over the Cuckoo's Nest (1975)</th>\n",
       "      <td>144.0</td>\n",
       "      <td>4.256944</td>\n",
       "    </tr>\n",
       "    <tr>\n",
       "      <th>Fargo (1996)</th>\n",
       "      <td>224.0</td>\n",
       "      <td>4.256696</td>\n",
       "    </tr>\n",
       "    <tr>\n",
       "      <th>Pulp Fiction (1994)</th>\n",
       "      <td>324.0</td>\n",
       "      <td>4.256173</td>\n",
       "    </tr>\n",
       "    <tr>\n",
       "      <th>American Beauty (1999)</th>\n",
       "      <td>220.0</td>\n",
       "      <td>4.236364</td>\n",
       "    </tr>\n",
       "    <tr>\n",
       "      <th>Dark Knight, The (2008)</th>\n",
       "      <td>121.0</td>\n",
       "      <td>4.235537</td>\n",
       "    </tr>\n",
       "    <tr>\n",
       "      <th>Casablanca (1942)</th>\n",
       "      <td>117.0</td>\n",
       "      <td>4.235043</td>\n",
       "    </tr>\n",
       "    <tr>\n",
       "      <th>Star Wars: Episode V - The Empire Strikes Back (1980)</th>\n",
       "      <td>234.0</td>\n",
       "      <td>4.232906</td>\n",
       "    </tr>\n",
       "    <tr>\n",
       "      <th>Memento (2000)</th>\n",
       "      <td>132.0</td>\n",
       "      <td>4.227273</td>\n",
       "    </tr>\n",
       "    <tr>\n",
       "      <th>Taxi Driver (1976)</th>\n",
       "      <td>118.0</td>\n",
       "      <td>4.224576</td>\n",
       "    </tr>\n",
       "    <tr>\n",
       "      <th>Monty Python and the Holy Grail (1975)</th>\n",
       "      <td>145.0</td>\n",
       "      <td>4.224138</td>\n",
       "    </tr>\n",
       "  </tbody>\n",
       "</table>\n",
       "</div>"
      ],
      "text/plain": [
       "                                                   rating          \n",
       "                                                     size      mean\n",
       "title                                                              \n",
       "Godfather, The (1972)                               200.0  4.487500\n",
       "Shawshank Redemption, The (1994)                    311.0  4.487138\n",
       "Godfather: Part II, The (1974)                      135.0  4.385185\n",
       "Usual Suspects, The (1995)                          201.0  4.370647\n",
       "Schindler's List (1993)                             244.0  4.303279\n",
       "One Flew Over the Cuckoo's Nest (1975)              144.0  4.256944\n",
       "Fargo (1996)                                        224.0  4.256696\n",
       "Pulp Fiction (1994)                                 324.0  4.256173\n",
       "American Beauty (1999)                              220.0  4.236364\n",
       "Dark Knight, The (2008)                             121.0  4.235537\n",
       "Casablanca (1942)                                   117.0  4.235043\n",
       "Star Wars: Episode V - The Empire Strikes Back ...  234.0  4.232906\n",
       "Memento (2000)                                      132.0  4.227273\n",
       "Taxi Driver (1976)                                  118.0  4.224576\n",
       "Monty Python and the Holy Grail (1975)              145.0  4.224138"
      ]
     },
     "execution_count": 33,
     "metadata": {},
     "output_type": "execute_result"
    }
   ],
   "source": [
    "atleast_100 = movie_stats['rating']['size'] >= 100\n",
    "movie_stats[atleast_100].sort_values([('rating', 'mean')], ascending=False)[:15]"
   ]
  },
  {
   "cell_type": "code",
   "execution_count": 35,
   "metadata": {
    "collapsed": false
   },
   "outputs": [
    {
     "data": {
      "text/html": [
       "<div>\n",
       "<table border=\"1\" class=\"dataframe\">\n",
       "  <thead>\n",
       "    <tr>\n",
       "      <th></th>\n",
       "      <th colspan=\"2\" halign=\"left\">rating</th>\n",
       "    </tr>\n",
       "    <tr>\n",
       "      <th></th>\n",
       "      <th>size</th>\n",
       "      <th>mean</th>\n",
       "    </tr>\n",
       "    <tr>\n",
       "      <th>title</th>\n",
       "      <th></th>\n",
       "      <th></th>\n",
       "    </tr>\n",
       "  </thead>\n",
       "  <tbody>\n",
       "    <tr>\n",
       "      <th>Godfather, The (1972)</th>\n",
       "      <td>200.0</td>\n",
       "      <td>4.487500</td>\n",
       "    </tr>\n",
       "    <tr>\n",
       "      <th>Shawshank Redemption, The (1994)</th>\n",
       "      <td>311.0</td>\n",
       "      <td>4.487138</td>\n",
       "    </tr>\n",
       "    <tr>\n",
       "      <th>Godfather: Part II, The (1974)</th>\n",
       "      <td>135.0</td>\n",
       "      <td>4.385185</td>\n",
       "    </tr>\n",
       "    <tr>\n",
       "      <th>Usual Suspects, The (1995)</th>\n",
       "      <td>201.0</td>\n",
       "      <td>4.370647</td>\n",
       "    </tr>\n",
       "    <tr>\n",
       "      <th>Schindler's List (1993)</th>\n",
       "      <td>244.0</td>\n",
       "      <td>4.303279</td>\n",
       "    </tr>\n",
       "    <tr>\n",
       "      <th>One Flew Over the Cuckoo's Nest (1975)</th>\n",
       "      <td>144.0</td>\n",
       "      <td>4.256944</td>\n",
       "    </tr>\n",
       "    <tr>\n",
       "      <th>Fargo (1996)</th>\n",
       "      <td>224.0</td>\n",
       "      <td>4.256696</td>\n",
       "    </tr>\n",
       "    <tr>\n",
       "      <th>Pulp Fiction (1994)</th>\n",
       "      <td>324.0</td>\n",
       "      <td>4.256173</td>\n",
       "    </tr>\n",
       "    <tr>\n",
       "      <th>American Beauty (1999)</th>\n",
       "      <td>220.0</td>\n",
       "      <td>4.236364</td>\n",
       "    </tr>\n",
       "    <tr>\n",
       "      <th>Dark Knight, The (2008)</th>\n",
       "      <td>121.0</td>\n",
       "      <td>4.235537</td>\n",
       "    </tr>\n",
       "    <tr>\n",
       "      <th>Casablanca (1942)</th>\n",
       "      <td>117.0</td>\n",
       "      <td>4.235043</td>\n",
       "    </tr>\n",
       "    <tr>\n",
       "      <th>Star Wars: Episode V - The Empire Strikes Back (1980)</th>\n",
       "      <td>234.0</td>\n",
       "      <td>4.232906</td>\n",
       "    </tr>\n",
       "    <tr>\n",
       "      <th>Memento (2000)</th>\n",
       "      <td>132.0</td>\n",
       "      <td>4.227273</td>\n",
       "    </tr>\n",
       "    <tr>\n",
       "      <th>Taxi Driver (1976)</th>\n",
       "      <td>118.0</td>\n",
       "      <td>4.224576</td>\n",
       "    </tr>\n",
       "    <tr>\n",
       "      <th>Monty Python and the Holy Grail (1975)</th>\n",
       "      <td>145.0</td>\n",
       "      <td>4.224138</td>\n",
       "    </tr>\n",
       "  </tbody>\n",
       "</table>\n",
       "</div>"
      ],
      "text/plain": [
       "                                                   rating          \n",
       "                                                     size      mean\n",
       "title                                                              \n",
       "Godfather, The (1972)                               200.0  4.487500\n",
       "Shawshank Redemption, The (1994)                    311.0  4.487138\n",
       "Godfather: Part II, The (1974)                      135.0  4.385185\n",
       "Usual Suspects, The (1995)                          201.0  4.370647\n",
       "Schindler's List (1993)                             244.0  4.303279\n",
       "One Flew Over the Cuckoo's Nest (1975)              144.0  4.256944\n",
       "Fargo (1996)                                        224.0  4.256696\n",
       "Pulp Fiction (1994)                                 324.0  4.256173\n",
       "American Beauty (1999)                              220.0  4.236364\n",
       "Dark Knight, The (2008)                             121.0  4.235537\n",
       "Casablanca (1942)                                   117.0  4.235043\n",
       "Star Wars: Episode V - The Empire Strikes Back ...  234.0  4.232906\n",
       "Memento (2000)                                      132.0  4.227273\n",
       "Taxi Driver (1976)                                  118.0  4.224576\n",
       "Monty Python and the Holy Grail (1975)              145.0  4.224138"
      ]
     },
     "execution_count": 35,
     "metadata": {},
     "output_type": "execute_result"
    }
   ],
   "source": [
    "# The SQL equivalent would be:\n",
    "\n",
    "# SELECT title, COUNT(1) size, AVG(rating) mean\n",
    "# FROM lens\n",
    "# GROUP BY title\n",
    "# HAVING COUNT(1) >= 100\n",
    "# ORDER BY 3 DESC\n",
    "# LIMIT 15;\n",
    "movie_stats = movie_ratings.groupby('title').agg({'rating': [np.size, np.mean]})\n",
    "atleast_100 = movie_stats['rating']['size'] >= 100\n",
    "movie_stats[atleast_100].sort_values([('rating', 'mean')], ascending=False)[:15]"
   ]
  },
  {
   "cell_type": "code",
   "execution_count": null,
   "metadata": {
    "collapsed": true
   },
   "outputs": [],
   "source": []
  }
 ],
 "metadata": {
  "kernelspec": {
   "display_name": "Python [conda root]",
   "language": "python",
   "name": "conda-root-py"
  },
  "language_info": {
   "codemirror_mode": {
    "name": "ipython",
    "version": 2
   },
   "file_extension": ".py",
   "mimetype": "text/x-python",
   "name": "python",
   "nbconvert_exporter": "python",
   "pygments_lexer": "ipython2",
   "version": "2.7.12"
  }
 },
 "nbformat": 4,
 "nbformat_minor": 1
}
