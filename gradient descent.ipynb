{
 "cells": [
  {
   "cell_type": "code",
   "execution_count": 1,
   "metadata": {
    "collapsed": true
   },
   "outputs": [],
   "source": [
    "# http://math.stackexchange.com/questions/70728/partial-derivative-in-gradient-descent-for-two-variables"
   ]
  },
  {
   "cell_type": "markdown",
   "metadata": {},
   "source": [
    "### Cost Function\n",
    "\\begin{align} h_\\theta(x^{(i)}): hypothesis\\ of\\ the\\ model\\end{align}\n",
    "\\begin{align} J(\\theta_0,\\theta_1) = \\frac{1}{2m}\\displaystyle\\sum_{i=1}^m(h_\\theta(x^{(i)}) - y^{(i)})^2 \\end{align}\n",
    "=>\n",
    "\\begin{align} \\theta_0 + \\theta_1x^{(i)}: can\\ be\\ seen\\ as\\ kx + d\\end{align}\n",
    "\\begin{align} J(\\theta_0,\\theta_1) = \\frac{1}{2m}\\displaystyle\\sum_{i=1}^m(\\theta_0 + \\theta_1x^{(i)} - y^{(i)})^2 \\end{align}\n",
    "### Minimize Cost Function\n",
    "\\begin{align}\\displaystyle\\min_{\\theta_0, \\theta_1}\\;J(\\theta_0, \\theta_1)\\end{align}\n",
    "### Minimize Cost Function step by step\n",
    "\\begin{align}\\alpha: learning rate\\end{align}\n",
    "\\begin{align}\\theta_j := \\theta_j - \\alpha\\frac{\\partial}{\\partial\\theta_j} J(\\theta_0,\\theta_1)\\end{align}"
   ]
  },
  {
   "cell_type": "markdown",
   "metadata": {},
   "source": [
    "Use the [chain rule](http://en.wikipedia.org/wiki/Chain_rule) for partial derivation"
   ]
  },
  {
   "cell_type": "code",
   "execution_count": null,
   "metadata": {
    "collapsed": true
   },
   "outputs": [],
   "source": []
  }
 ],
 "metadata": {
  "kernelspec": {
   "display_name": "Python [conda root]",
   "language": "python",
   "name": "conda-root-py"
  },
  "language_info": {
   "codemirror_mode": {
    "name": "ipython",
    "version": 2
   },
   "file_extension": ".py",
   "mimetype": "text/x-python",
   "name": "python",
   "nbconvert_exporter": "python",
   "pygments_lexer": "ipython2",
   "version": "2.7.12"
  }
 },
 "nbformat": 4,
 "nbformat_minor": 1
}
